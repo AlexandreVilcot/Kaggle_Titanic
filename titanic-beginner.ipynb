{
 "cells": [
  {
   "cell_type": "markdown",
   "id": "e35a8147",
   "metadata": {
    "papermill": {
     "duration": 0.005214,
     "end_time": "2023-06-14T13:52:11.492895",
     "exception": false,
     "start_time": "2023-06-14T13:52:11.487681",
     "status": "completed"
    },
    "tags": []
   },
   "source": [
    "I. Import"
   ]
  },
  {
   "cell_type": "code",
   "execution_count": 1,
   "id": "98046317",
   "metadata": {
    "execution": {
     "iopub.execute_input": "2023-06-14T13:52:11.504539Z",
     "iopub.status.busy": "2023-06-14T13:52:11.503783Z",
     "iopub.status.idle": "2023-06-14T13:52:11.508942Z",
     "shell.execute_reply": "2023-06-14T13:52:11.508109Z"
    },
    "papermill": {
     "duration": 0.014008,
     "end_time": "2023-06-14T13:52:11.511739",
     "exception": false,
     "start_time": "2023-06-14T13:52:11.497731",
     "status": "completed"
    },
    "tags": []
   },
   "outputs": [],
   "source": [
    "# Plan simple : \n",
    "# - Clean data\n",
    "# - Simple model"
   ]
  },
  {
   "cell_type": "code",
   "execution_count": 2,
   "id": "95b4b6b5",
   "metadata": {
    "_cell_guid": "b1076dfc-b9ad-4769-8c92-a6c4dae69d19",
    "_uuid": "8f2839f25d086af736a60e9eeb907d3b93b6e0e5",
    "execution": {
     "iopub.execute_input": "2023-06-14T13:52:11.523561Z",
     "iopub.status.busy": "2023-06-14T13:52:11.522457Z",
     "iopub.status.idle": "2023-06-14T13:52:11.531866Z",
     "shell.execute_reply": "2023-06-14T13:52:11.530675Z"
    },
    "papermill": {
     "duration": 0.017567,
     "end_time": "2023-06-14T13:52:11.534218",
     "exception": false,
     "start_time": "2023-06-14T13:52:11.516651",
     "status": "completed"
    },
    "tags": []
   },
   "outputs": [],
   "source": [
    "import numpy as np # linear algebra\n",
    "import pandas as pd # data processing, CSV file I/O (e.g. pd.read_csv)"
   ]
  },
  {
   "cell_type": "code",
   "execution_count": 3,
   "id": "c88824fa",
   "metadata": {
    "execution": {
     "iopub.execute_input": "2023-06-14T13:52:11.545269Z",
     "iopub.status.busy": "2023-06-14T13:52:11.544881Z",
     "iopub.status.idle": "2023-06-14T13:52:11.551931Z",
     "shell.execute_reply": "2023-06-14T13:52:11.550587Z"
    },
    "papermill": {
     "duration": 0.015262,
     "end_time": "2023-06-14T13:52:11.554199",
     "exception": false,
     "start_time": "2023-06-14T13:52:11.538937",
     "status": "completed"
    },
    "tags": []
   },
   "outputs": [
    {
     "name": "stdout",
     "output_type": "stream",
     "text": [
      "/kaggle/input/titanic/train.csv\n",
      "/kaggle/input/titanic/test.csv\n",
      "/kaggle/input/titanic/gender_submission.csv\n"
     ]
    }
   ],
   "source": [
    "import os\n",
    "for dirname, _, filenames in os.walk('/kaggle/input'):\n",
    "    for filename in filenames:\n",
    "        print(os.path.join(dirname, filename))"
   ]
  },
  {
   "cell_type": "code",
   "execution_count": 4,
   "id": "25eaf23d",
   "metadata": {
    "execution": {
     "iopub.execute_input": "2023-06-14T13:52:11.565893Z",
     "iopub.status.busy": "2023-06-14T13:52:11.565262Z",
     "iopub.status.idle": "2023-06-14T13:52:11.596585Z",
     "shell.execute_reply": "2023-06-14T13:52:11.595448Z"
    },
    "papermill": {
     "duration": 0.040274,
     "end_time": "2023-06-14T13:52:11.599399",
     "exception": false,
     "start_time": "2023-06-14T13:52:11.559125",
     "status": "completed"
    },
    "tags": []
   },
   "outputs": [],
   "source": [
    "df_train = pd.read_csv(\"/kaggle/input/titanic/train.csv\")\n",
    "df_test = pd.read_csv(\"/kaggle/input/titanic/test.csv\")"
   ]
  },
  {
   "cell_type": "markdown",
   "id": "3d59e997",
   "metadata": {
    "papermill": {
     "duration": 0.004623,
     "end_time": "2023-06-14T13:52:11.609193",
     "exception": false,
     "start_time": "2023-06-14T13:52:11.604570",
     "status": "completed"
    },
    "tags": []
   },
   "source": [
    "II. EDA"
   ]
  },
  {
   "cell_type": "code",
   "execution_count": 5,
   "id": "e5dd7cf6",
   "metadata": {
    "execution": {
     "iopub.execute_input": "2023-06-14T13:52:11.622323Z",
     "iopub.status.busy": "2023-06-14T13:52:11.621952Z",
     "iopub.status.idle": "2023-06-14T13:52:11.655102Z",
     "shell.execute_reply": "2023-06-14T13:52:11.653931Z"
    },
    "papermill": {
     "duration": 0.041848,
     "end_time": "2023-06-14T13:52:11.657558",
     "exception": false,
     "start_time": "2023-06-14T13:52:11.615710",
     "status": "completed"
    },
    "tags": []
   },
   "outputs": [
    {
     "data": {
      "text/html": [
       "<div>\n",
       "<style scoped>\n",
       "    .dataframe tbody tr th:only-of-type {\n",
       "        vertical-align: middle;\n",
       "    }\n",
       "\n",
       "    .dataframe tbody tr th {\n",
       "        vertical-align: top;\n",
       "    }\n",
       "\n",
       "    .dataframe thead th {\n",
       "        text-align: right;\n",
       "    }\n",
       "</style>\n",
       "<table border=\"1\" class=\"dataframe\">\n",
       "  <thead>\n",
       "    <tr style=\"text-align: right;\">\n",
       "      <th></th>\n",
       "      <th>PassengerId</th>\n",
       "      <th>Survived</th>\n",
       "      <th>Pclass</th>\n",
       "      <th>Name</th>\n",
       "      <th>Sex</th>\n",
       "      <th>Age</th>\n",
       "      <th>SibSp</th>\n",
       "      <th>Parch</th>\n",
       "      <th>Ticket</th>\n",
       "      <th>Fare</th>\n",
       "      <th>Cabin</th>\n",
       "      <th>Embarked</th>\n",
       "    </tr>\n",
       "  </thead>\n",
       "  <tbody>\n",
       "    <tr>\n",
       "      <th>0</th>\n",
       "      <td>1</td>\n",
       "      <td>0</td>\n",
       "      <td>3</td>\n",
       "      <td>Braund, Mr. Owen Harris</td>\n",
       "      <td>male</td>\n",
       "      <td>22.0</td>\n",
       "      <td>1</td>\n",
       "      <td>0</td>\n",
       "      <td>A/5 21171</td>\n",
       "      <td>7.2500</td>\n",
       "      <td>NaN</td>\n",
       "      <td>S</td>\n",
       "    </tr>\n",
       "    <tr>\n",
       "      <th>1</th>\n",
       "      <td>2</td>\n",
       "      <td>1</td>\n",
       "      <td>1</td>\n",
       "      <td>Cumings, Mrs. John Bradley (Florence Briggs Th...</td>\n",
       "      <td>female</td>\n",
       "      <td>38.0</td>\n",
       "      <td>1</td>\n",
       "      <td>0</td>\n",
       "      <td>PC 17599</td>\n",
       "      <td>71.2833</td>\n",
       "      <td>C85</td>\n",
       "      <td>C</td>\n",
       "    </tr>\n",
       "    <tr>\n",
       "      <th>2</th>\n",
       "      <td>3</td>\n",
       "      <td>1</td>\n",
       "      <td>3</td>\n",
       "      <td>Heikkinen, Miss. Laina</td>\n",
       "      <td>female</td>\n",
       "      <td>26.0</td>\n",
       "      <td>0</td>\n",
       "      <td>0</td>\n",
       "      <td>STON/O2. 3101282</td>\n",
       "      <td>7.9250</td>\n",
       "      <td>NaN</td>\n",
       "      <td>S</td>\n",
       "    </tr>\n",
       "    <tr>\n",
       "      <th>3</th>\n",
       "      <td>4</td>\n",
       "      <td>1</td>\n",
       "      <td>1</td>\n",
       "      <td>Futrelle, Mrs. Jacques Heath (Lily May Peel)</td>\n",
       "      <td>female</td>\n",
       "      <td>35.0</td>\n",
       "      <td>1</td>\n",
       "      <td>0</td>\n",
       "      <td>113803</td>\n",
       "      <td>53.1000</td>\n",
       "      <td>C123</td>\n",
       "      <td>S</td>\n",
       "    </tr>\n",
       "    <tr>\n",
       "      <th>4</th>\n",
       "      <td>5</td>\n",
       "      <td>0</td>\n",
       "      <td>3</td>\n",
       "      <td>Allen, Mr. William Henry</td>\n",
       "      <td>male</td>\n",
       "      <td>35.0</td>\n",
       "      <td>0</td>\n",
       "      <td>0</td>\n",
       "      <td>373450</td>\n",
       "      <td>8.0500</td>\n",
       "      <td>NaN</td>\n",
       "      <td>S</td>\n",
       "    </tr>\n",
       "  </tbody>\n",
       "</table>\n",
       "</div>"
      ],
      "text/plain": [
       "   PassengerId  Survived  Pclass  \\\n",
       "0            1         0       3   \n",
       "1            2         1       1   \n",
       "2            3         1       3   \n",
       "3            4         1       1   \n",
       "4            5         0       3   \n",
       "\n",
       "                                                Name     Sex   Age  SibSp  \\\n",
       "0                            Braund, Mr. Owen Harris    male  22.0      1   \n",
       "1  Cumings, Mrs. John Bradley (Florence Briggs Th...  female  38.0      1   \n",
       "2                             Heikkinen, Miss. Laina  female  26.0      0   \n",
       "3       Futrelle, Mrs. Jacques Heath (Lily May Peel)  female  35.0      1   \n",
       "4                           Allen, Mr. William Henry    male  35.0      0   \n",
       "\n",
       "   Parch            Ticket     Fare Cabin Embarked  \n",
       "0      0         A/5 21171   7.2500   NaN        S  \n",
       "1      0          PC 17599  71.2833   C85        C  \n",
       "2      0  STON/O2. 3101282   7.9250   NaN        S  \n",
       "3      0            113803  53.1000  C123        S  \n",
       "4      0            373450   8.0500   NaN        S  "
      ]
     },
     "execution_count": 5,
     "metadata": {},
     "output_type": "execute_result"
    }
   ],
   "source": [
    "df_train.head()"
   ]
  },
  {
   "cell_type": "code",
   "execution_count": 6,
   "id": "d9ba1c9c",
   "metadata": {
    "execution": {
     "iopub.execute_input": "2023-06-14T13:52:11.669546Z",
     "iopub.status.busy": "2023-06-14T13:52:11.669178Z",
     "iopub.status.idle": "2023-06-14T13:52:11.674743Z",
     "shell.execute_reply": "2023-06-14T13:52:11.673521Z"
    },
    "papermill": {
     "duration": 0.014497,
     "end_time": "2023-06-14T13:52:11.677279",
     "exception": false,
     "start_time": "2023-06-14T13:52:11.662782",
     "status": "completed"
    },
    "tags": []
   },
   "outputs": [
    {
     "name": "stdout",
     "output_type": "stream",
     "text": [
      "(891, 12)\n",
      "(418, 11)\n"
     ]
    }
   ],
   "source": [
    "print(df_train.shape)\n",
    "print(df_test.shape)"
   ]
  },
  {
   "cell_type": "code",
   "execution_count": 7,
   "id": "220c05a4",
   "metadata": {
    "execution": {
     "iopub.execute_input": "2023-06-14T13:52:11.689329Z",
     "iopub.status.busy": "2023-06-14T13:52:11.688963Z",
     "iopub.status.idle": "2023-06-14T13:52:11.723348Z",
     "shell.execute_reply": "2023-06-14T13:52:11.721931Z"
    },
    "papermill": {
     "duration": 0.04331,
     "end_time": "2023-06-14T13:52:11.725832",
     "exception": false,
     "start_time": "2023-06-14T13:52:11.682522",
     "status": "completed"
    },
    "tags": []
   },
   "outputs": [
    {
     "name": "stdout",
     "output_type": "stream",
     "text": [
      "PassengerId      0\n",
      "Survived         0\n",
      "Pclass           0\n",
      "Name             0\n",
      "Sex              0\n",
      "Age            177\n",
      "SibSp            0\n",
      "Parch            0\n",
      "Ticket           0\n",
      "Fare             0\n",
      "Cabin          687\n",
      "Embarked         2\n",
      "dtype: int64\n",
      "<class 'pandas.core.frame.DataFrame'>\n",
      "RangeIndex: 891 entries, 0 to 890\n",
      "Data columns (total 12 columns):\n",
      " #   Column       Non-Null Count  Dtype  \n",
      "---  ------       --------------  -----  \n",
      " 0   PassengerId  891 non-null    int64  \n",
      " 1   Survived     891 non-null    int64  \n",
      " 2   Pclass       891 non-null    int64  \n",
      " 3   Name         891 non-null    object \n",
      " 4   Sex          891 non-null    object \n",
      " 5   Age          714 non-null    float64\n",
      " 6   SibSp        891 non-null    int64  \n",
      " 7   Parch        891 non-null    int64  \n",
      " 8   Ticket       891 non-null    object \n",
      " 9   Fare         891 non-null    float64\n",
      " 10  Cabin        204 non-null    object \n",
      " 11  Embarked     889 non-null    object \n",
      "dtypes: float64(2), int64(5), object(5)\n",
      "memory usage: 83.7+ KB\n",
      "None\n"
     ]
    }
   ],
   "source": [
    "print(df_train.isnull().sum())\n",
    "print(df_train.info())"
   ]
  },
  {
   "cell_type": "code",
   "execution_count": 8,
   "id": "f3d5d3ee",
   "metadata": {
    "execution": {
     "iopub.execute_input": "2023-06-14T13:52:11.738579Z",
     "iopub.status.busy": "2023-06-14T13:52:11.738179Z",
     "iopub.status.idle": "2023-06-14T13:52:11.746499Z",
     "shell.execute_reply": "2023-06-14T13:52:11.745242Z"
    },
    "papermill": {
     "duration": 0.017322,
     "end_time": "2023-06-14T13:52:11.748751",
     "exception": false,
     "start_time": "2023-06-14T13:52:11.731429",
     "status": "completed"
    },
    "tags": []
   },
   "outputs": [
    {
     "name": "stdout",
     "output_type": "stream",
     "text": [
      "PassengerId      0\n",
      "Pclass           0\n",
      "Name             0\n",
      "Sex              0\n",
      "Age             86\n",
      "SibSp            0\n",
      "Parch            0\n",
      "Ticket           0\n",
      "Fare             1\n",
      "Cabin          327\n",
      "Embarked         0\n",
      "dtype: int64\n"
     ]
    }
   ],
   "source": [
    "print(df_test.isnull().sum())"
   ]
  },
  {
   "cell_type": "code",
   "execution_count": 9,
   "id": "85b7b529",
   "metadata": {
    "execution": {
     "iopub.execute_input": "2023-06-14T13:52:11.761499Z",
     "iopub.status.busy": "2023-06-14T13:52:11.761064Z",
     "iopub.status.idle": "2023-06-14T13:52:11.778519Z",
     "shell.execute_reply": "2023-06-14T13:52:11.777133Z"
    },
    "papermill": {
     "duration": 0.026618,
     "end_time": "2023-06-14T13:52:11.780884",
     "exception": false,
     "start_time": "2023-06-14T13:52:11.754266",
     "status": "completed"
    },
    "tags": []
   },
   "outputs": [
    {
     "name": "stdout",
     "output_type": "stream",
     "text": [
      "Index(['PassengerId', 'Survived', 'Pclass', 'Sex', 'Age', 'SibSp', 'Parch',\n",
      "       'Fare'],\n",
      "      dtype='object')\n",
      "Index(['PassengerId', 'Pclass', 'Sex', 'Age', 'SibSp', 'Parch', 'Fare'], dtype='object')\n"
     ]
    }
   ],
   "source": [
    "if 'Cabin' in df_train.columns:\n",
    "    df_train = df_train.drop(columns = \"Cabin\")\n",
    "    df_test = df_test.drop(columns = \"Cabin\")\n",
    "    \n",
    "if 'Name' in df_train.columns:\n",
    "    df_train = df_train.drop(columns = \"Name\")\n",
    "    df_test = df_test.drop(columns = \"Name\")\n",
    "    \n",
    "if 'Ticket' in df_train.columns:\n",
    "    df_train = df_train.drop(columns = \"Ticket\")\n",
    "    df_test = df_test.drop(columns = \"Ticket\")\n",
    "    \n",
    "if 'Embarked' in df_train.columns:\n",
    "    df_train = df_train.drop(columns = \"Embarked\")\n",
    "    df_test = df_test.drop(columns = \"Embarked\")\n",
    "    \n",
    "# if 'PassengerId' in df_train.columns:\n",
    "#     df_train = df_train.drop(columns = \"PassengerId\")\n",
    "    \n",
    "print(df_train.columns)\n",
    "print(df_test.columns)"
   ]
  },
  {
   "cell_type": "code",
   "execution_count": 10,
   "id": "533b2cc5",
   "metadata": {
    "execution": {
     "iopub.execute_input": "2023-06-14T13:52:11.793296Z",
     "iopub.status.busy": "2023-06-14T13:52:11.792906Z",
     "iopub.status.idle": "2023-06-14T13:52:11.809025Z",
     "shell.execute_reply": "2023-06-14T13:52:11.807452Z"
    },
    "papermill": {
     "duration": 0.025159,
     "end_time": "2023-06-14T13:52:11.811424",
     "exception": false,
     "start_time": "2023-06-14T13:52:11.786265",
     "status": "completed"
    },
    "tags": []
   },
   "outputs": [
    {
     "name": "stdout",
     "output_type": "stream",
     "text": [
      "     PassengerId  Survived  Pclass  Sex   Age  SibSp  Parch     Fare\n",
      "0              1         0       3    0  22.0      1      0   7.2500\n",
      "1              2         1       1    1  38.0      1      0  71.2833\n",
      "2              3         1       3    1  26.0      0      0   7.9250\n",
      "3              4         1       1    1  35.0      1      0  53.1000\n",
      "4              5         0       3    0  35.0      0      0   8.0500\n",
      "..           ...       ...     ...  ...   ...    ...    ...      ...\n",
      "886          887         0       2    0  27.0      0      0  13.0000\n",
      "887          888         1       1    1  19.0      0      0  30.0000\n",
      "888          889         0       3    1   NaN      1      2  23.4500\n",
      "889          890         1       1    0  26.0      0      0  30.0000\n",
      "890          891         0       3    0  32.0      0      0   7.7500\n",
      "\n",
      "[891 rows x 8 columns]\n"
     ]
    }
   ],
   "source": [
    "#binary encoding for gender\n",
    "\n",
    "gender_dic = { 'male' : 0, 'female' : 1}\n",
    "list_values = df_train['Sex'].unique()\n",
    "\n",
    "if \"male\" in list_values:\n",
    "    df_train['Sex'] = df_train['Sex'].map(gender_dic)\n",
    "    df_test['Sex'] = df_test['Sex'].map(gender_dic)\n",
    "\n",
    "print(df_train)"
   ]
  },
  {
   "cell_type": "code",
   "execution_count": 11,
   "id": "111bd33d",
   "metadata": {
    "execution": {
     "iopub.execute_input": "2023-06-14T13:52:11.824161Z",
     "iopub.status.busy": "2023-06-14T13:52:11.823753Z",
     "iopub.status.idle": "2023-06-14T13:52:11.832529Z",
     "shell.execute_reply": "2023-06-14T13:52:11.831702Z"
    },
    "papermill": {
     "duration": 0.017781,
     "end_time": "2023-06-14T13:52:11.834799",
     "exception": false,
     "start_time": "2023-06-14T13:52:11.817018",
     "status": "completed"
    },
    "tags": []
   },
   "outputs": [],
   "source": [
    "# We encode NaN Age value by taking the mean of all age. Simple encoding\n",
    "\n",
    "mean_age_train = df_train['Age'].mean()\n",
    "mean_age_test = df_test['Age'].mean()\n",
    "\n",
    "if df_train['Age'].isnull().sum() != 0:\n",
    "    df_train['Age'] = df_train['Age'].fillna(mean_age_train)\n",
    "    df_test['Age'] = df_test['Age'].fillna(mean_age_test)"
   ]
  },
  {
   "cell_type": "code",
   "execution_count": 12,
   "id": "ffe35c55",
   "metadata": {
    "execution": {
     "iopub.execute_input": "2023-06-14T13:52:11.847644Z",
     "iopub.status.busy": "2023-06-14T13:52:11.847275Z",
     "iopub.status.idle": "2023-06-14T13:52:13.381062Z",
     "shell.execute_reply": "2023-06-14T13:52:13.379729Z"
    },
    "papermill": {
     "duration": 1.543177,
     "end_time": "2023-06-14T13:52:13.383561",
     "exception": false,
     "start_time": "2023-06-14T13:52:11.840384",
     "status": "completed"
    },
    "tags": []
   },
   "outputs": [
    {
     "name": "stdout",
     "output_type": "stream",
     "text": [
      "(668, 7)\n",
      "(223, 7)\n",
      "(668,)\n",
      "(223,)\n"
     ]
    }
   ],
   "source": [
    "from sklearn.model_selection import train_test_split\n",
    "\n",
    "if 'Survived' in df_train.columns:\n",
    "    y = df_train.pop('Survived')\n",
    "\n",
    "x_train, x_val, y_train, y_val = train_test_split(df_train, y, random_state = 100)\n",
    "print(x_train.shape)\n",
    "print(x_val.shape)\n",
    "print(y_train.shape)\n",
    "print(y_val.shape)"
   ]
  },
  {
   "cell_type": "code",
   "execution_count": 13,
   "id": "1b87aac7",
   "metadata": {
    "execution": {
     "iopub.execute_input": "2023-06-14T13:52:13.396702Z",
     "iopub.status.busy": "2023-06-14T13:52:13.396264Z",
     "iopub.status.idle": "2023-06-14T13:52:13.706073Z",
     "shell.execute_reply": "2023-06-14T13:52:13.704804Z"
    },
    "papermill": {
     "duration": 0.319814,
     "end_time": "2023-06-14T13:52:13.708906",
     "exception": false,
     "start_time": "2023-06-14T13:52:13.389092",
     "status": "completed"
    },
    "tags": []
   },
   "outputs": [
    {
     "data": {
      "text/html": [
       "<style>#sk-container-id-1 {color: black;background-color: white;}#sk-container-id-1 pre{padding: 0;}#sk-container-id-1 div.sk-toggleable {background-color: white;}#sk-container-id-1 label.sk-toggleable__label {cursor: pointer;display: block;width: 100%;margin-bottom: 0;padding: 0.3em;box-sizing: border-box;text-align: center;}#sk-container-id-1 label.sk-toggleable__label-arrow:before {content: \"▸\";float: left;margin-right: 0.25em;color: #696969;}#sk-container-id-1 label.sk-toggleable__label-arrow:hover:before {color: black;}#sk-container-id-1 div.sk-estimator:hover label.sk-toggleable__label-arrow:before {color: black;}#sk-container-id-1 div.sk-toggleable__content {max-height: 0;max-width: 0;overflow: hidden;text-align: left;background-color: #f0f8ff;}#sk-container-id-1 div.sk-toggleable__content pre {margin: 0.2em;color: black;border-radius: 0.25em;background-color: #f0f8ff;}#sk-container-id-1 input.sk-toggleable__control:checked~div.sk-toggleable__content {max-height: 200px;max-width: 100%;overflow: auto;}#sk-container-id-1 input.sk-toggleable__control:checked~label.sk-toggleable__label-arrow:before {content: \"▾\";}#sk-container-id-1 div.sk-estimator input.sk-toggleable__control:checked~label.sk-toggleable__label {background-color: #d4ebff;}#sk-container-id-1 div.sk-label input.sk-toggleable__control:checked~label.sk-toggleable__label {background-color: #d4ebff;}#sk-container-id-1 input.sk-hidden--visually {border: 0;clip: rect(1px 1px 1px 1px);clip: rect(1px, 1px, 1px, 1px);height: 1px;margin: -1px;overflow: hidden;padding: 0;position: absolute;width: 1px;}#sk-container-id-1 div.sk-estimator {font-family: monospace;background-color: #f0f8ff;border: 1px dotted black;border-radius: 0.25em;box-sizing: border-box;margin-bottom: 0.5em;}#sk-container-id-1 div.sk-estimator:hover {background-color: #d4ebff;}#sk-container-id-1 div.sk-parallel-item::after {content: \"\";width: 100%;border-bottom: 1px solid gray;flex-grow: 1;}#sk-container-id-1 div.sk-label:hover label.sk-toggleable__label {background-color: #d4ebff;}#sk-container-id-1 div.sk-serial::before {content: \"\";position: absolute;border-left: 1px solid gray;box-sizing: border-box;top: 0;bottom: 0;left: 50%;z-index: 0;}#sk-container-id-1 div.sk-serial {display: flex;flex-direction: column;align-items: center;background-color: white;padding-right: 0.2em;padding-left: 0.2em;position: relative;}#sk-container-id-1 div.sk-item {position: relative;z-index: 1;}#sk-container-id-1 div.sk-parallel {display: flex;align-items: stretch;justify-content: center;background-color: white;position: relative;}#sk-container-id-1 div.sk-item::before, #sk-container-id-1 div.sk-parallel-item::before {content: \"\";position: absolute;border-left: 1px solid gray;box-sizing: border-box;top: 0;bottom: 0;left: 50%;z-index: -1;}#sk-container-id-1 div.sk-parallel-item {display: flex;flex-direction: column;z-index: 1;position: relative;background-color: white;}#sk-container-id-1 div.sk-parallel-item:first-child::after {align-self: flex-end;width: 50%;}#sk-container-id-1 div.sk-parallel-item:last-child::after {align-self: flex-start;width: 50%;}#sk-container-id-1 div.sk-parallel-item:only-child::after {width: 0;}#sk-container-id-1 div.sk-dashed-wrapped {border: 1px dashed gray;margin: 0 0.4em 0.5em 0.4em;box-sizing: border-box;padding-bottom: 0.4em;background-color: white;}#sk-container-id-1 div.sk-label label {font-family: monospace;font-weight: bold;display: inline-block;line-height: 1.2em;}#sk-container-id-1 div.sk-label-container {text-align: center;}#sk-container-id-1 div.sk-container {/* jupyter's `normalize.less` sets `[hidden] { display: none; }` but bootstrap.min.css set `[hidden] { display: none !important; }` so we also need the `!important` here to be able to override the default hidden behavior on the sphinx rendered scikit-learn.org. See: https://github.com/scikit-learn/scikit-learn/issues/21755 */display: inline-block !important;position: relative;}#sk-container-id-1 div.sk-text-repr-fallback {display: none;}</style><div id=\"sk-container-id-1\" class=\"sk-top-container\"><div class=\"sk-text-repr-fallback\"><pre>DecisionTreeClassifier()</pre><b>In a Jupyter environment, please rerun this cell to show the HTML representation or trust the notebook. <br />On GitHub, the HTML representation is unable to render, please try loading this page with nbviewer.org.</b></div><div class=\"sk-container\" hidden><div class=\"sk-item\"><div class=\"sk-estimator sk-toggleable\"><input class=\"sk-toggleable__control sk-hidden--visually\" id=\"sk-estimator-id-1\" type=\"checkbox\" checked><label for=\"sk-estimator-id-1\" class=\"sk-toggleable__label sk-toggleable__label-arrow\">DecisionTreeClassifier</label><div class=\"sk-toggleable__content\"><pre>DecisionTreeClassifier()</pre></div></div></div></div></div>"
      ],
      "text/plain": [
       "DecisionTreeClassifier()"
      ]
     },
     "execution_count": 13,
     "metadata": {},
     "output_type": "execute_result"
    }
   ],
   "source": [
    "from sklearn.tree import DecisionTreeClassifier\n",
    "tree = DecisionTreeClassifier()\n",
    "tree.fit(x_train, y_train)"
   ]
  },
  {
   "cell_type": "code",
   "execution_count": 14,
   "id": "2e05e430",
   "metadata": {
    "execution": {
     "iopub.execute_input": "2023-06-14T13:52:13.724788Z",
     "iopub.status.busy": "2023-06-14T13:52:13.724367Z",
     "iopub.status.idle": "2023-06-14T13:52:13.735017Z",
     "shell.execute_reply": "2023-06-14T13:52:13.733369Z"
    },
    "papermill": {
     "duration": 0.023406,
     "end_time": "2023-06-14T13:52:13.738817",
     "exception": false,
     "start_time": "2023-06-14T13:52:13.715411",
     "status": "completed"
    },
    "tags": []
   },
   "outputs": [
    {
     "name": "stdout",
     "output_type": "stream",
     "text": [
      "0.7488789237668162\n"
     ]
    }
   ],
   "source": [
    "# Measuring the accuracy of our model\n",
    "from sklearn.metrics import accuracy_score\n",
    "\n",
    "tree_pred = tree.predict(x_val)\n",
    "print(accuracy_score(y_val, tree_pred))"
   ]
  },
  {
   "cell_type": "code",
   "execution_count": 15,
   "id": "dbba8d87",
   "metadata": {
    "execution": {
     "iopub.execute_input": "2023-06-14T13:52:13.752727Z",
     "iopub.status.busy": "2023-06-14T13:52:13.752342Z",
     "iopub.status.idle": "2023-06-14T13:52:13.759779Z",
     "shell.execute_reply": "2023-06-14T13:52:13.758399Z"
    },
    "papermill": {
     "duration": 0.01792,
     "end_time": "2023-06-14T13:52:13.762818",
     "exception": false,
     "start_time": "2023-06-14T13:52:13.744898",
     "status": "completed"
    },
    "tags": []
   },
   "outputs": [
    {
     "name": "stdout",
     "output_type": "stream",
     "text": [
      "Index(['PassengerId', 'Pclass', 'Sex', 'Age', 'SibSp', 'Parch', 'Fare'], dtype='object')\n"
     ]
    }
   ],
   "source": [
    "# Cleaning df_test data\n",
    "\n",
    "df_test = df_test.dropna()\n",
    "print(df_test.columns)"
   ]
  },
  {
   "cell_type": "code",
   "execution_count": 16,
   "id": "7456f4c0",
   "metadata": {
    "execution": {
     "iopub.execute_input": "2023-06-14T13:52:13.777294Z",
     "iopub.status.busy": "2023-06-14T13:52:13.776680Z",
     "iopub.status.idle": "2023-06-14T13:52:13.791412Z",
     "shell.execute_reply": "2023-06-14T13:52:13.790452Z"
    },
    "papermill": {
     "duration": 0.024852,
     "end_time": "2023-06-14T13:52:13.793891",
     "exception": false,
     "start_time": "2023-06-14T13:52:13.769039",
     "status": "completed"
    },
    "tags": []
   },
   "outputs": [],
   "source": [
    "# Training the tree on all the data\n",
    "\n",
    "tree_final = DecisionTreeClassifier()\n",
    "tree_final.fit(df_train, y)\n",
    "tree_pred = tree_final.predict(df_test)"
   ]
  },
  {
   "cell_type": "code",
   "execution_count": 17,
   "id": "1a3a0b4d",
   "metadata": {
    "execution": {
     "iopub.execute_input": "2023-06-14T13:52:13.808565Z",
     "iopub.status.busy": "2023-06-14T13:52:13.807553Z",
     "iopub.status.idle": "2023-06-14T13:52:13.819272Z",
     "shell.execute_reply": "2023-06-14T13:52:13.818412Z"
    },
    "papermill": {
     "duration": 0.021722,
     "end_time": "2023-06-14T13:52:13.821711",
     "exception": false,
     "start_time": "2023-06-14T13:52:13.799989",
     "status": "completed"
    },
    "tags": []
   },
   "outputs": [],
   "source": [
    "submission = pd.DataFrame({\n",
    "\"PassengerId\": df_test[\"PassengerId\"],\n",
    "\"Survived\": tree_pred\n",
    "})\n",
    "\n",
    "submission.to_csv('submission.csv', index=False)"
   ]
  }
 ],
 "metadata": {
  "kernelspec": {
   "display_name": "Python 3",
   "language": "python",
   "name": "python3"
  },
  "language_info": {
   "codemirror_mode": {
    "name": "ipython",
    "version": 3
   },
   "file_extension": ".py",
   "mimetype": "text/x-python",
   "name": "python",
   "nbconvert_exporter": "python",
   "pygments_lexer": "ipython3",
   "version": "3.10.10"
  },
  "papermill": {
   "default_parameters": {},
   "duration": 14.772936,
   "end_time": "2023-06-14T13:52:14.849464",
   "environment_variables": {},
   "exception": null,
   "input_path": "__notebook__.ipynb",
   "output_path": "__notebook__.ipynb",
   "parameters": {},
   "start_time": "2023-06-14T13:52:00.076528",
   "version": "2.4.0"
  }
 },
 "nbformat": 4,
 "nbformat_minor": 5
}
