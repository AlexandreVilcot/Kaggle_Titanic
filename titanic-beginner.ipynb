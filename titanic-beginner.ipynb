{
 "cells": [
  {
   "cell_type": "markdown",
   "id": "e9fc7966",
   "metadata": {
    "papermill": {
     "duration": 0.006988,
     "end_time": "2023-06-14T14:07:25.736049",
     "exception": false,
     "start_time": "2023-06-14T14:07:25.729061",
     "status": "completed"
    },
    "tags": []
   },
   "source": [
    "I. Import"
   ]
  },
  {
   "cell_type": "code",
   "execution_count": 1,
   "id": "067945f0",
   "metadata": {
    "execution": {
     "iopub.execute_input": "2023-06-14T14:07:25.751089Z",
     "iopub.status.busy": "2023-06-14T14:07:25.750619Z",
     "iopub.status.idle": "2023-06-14T14:07:25.756822Z",
     "shell.execute_reply": "2023-06-14T14:07:25.755559Z"
    },
    "papermill": {
     "duration": 0.018078,
     "end_time": "2023-06-14T14:07:25.760668",
     "exception": false,
     "start_time": "2023-06-14T14:07:25.742590",
     "status": "completed"
    },
    "tags": []
   },
   "outputs": [],
   "source": [
    "# Plan simple : \n",
    "# - Clean data\n",
    "# - Simple model"
   ]
  },
  {
   "cell_type": "code",
   "execution_count": 2,
   "id": "3b9a4ecd",
   "metadata": {
    "_cell_guid": "b1076dfc-b9ad-4769-8c92-a6c4dae69d19",
    "_uuid": "8f2839f25d086af736a60e9eeb907d3b93b6e0e5",
    "execution": {
     "iopub.execute_input": "2023-06-14T14:07:25.775162Z",
     "iopub.status.busy": "2023-06-14T14:07:25.774716Z",
     "iopub.status.idle": "2023-06-14T14:07:25.786883Z",
     "shell.execute_reply": "2023-06-14T14:07:25.785717Z"
    },
    "papermill": {
     "duration": 0.022429,
     "end_time": "2023-06-14T14:07:25.789496",
     "exception": false,
     "start_time": "2023-06-14T14:07:25.767067",
     "status": "completed"
    },
    "tags": []
   },
   "outputs": [],
   "source": [
    "import numpy as np # linear algebra\n",
    "import pandas as pd # data processing, CSV file I/O (e.g. pd.read_csv)"
   ]
  },
  {
   "cell_type": "code",
   "execution_count": 3,
   "id": "27588218",
   "metadata": {
    "execution": {
     "iopub.execute_input": "2023-06-14T14:07:25.804086Z",
     "iopub.status.busy": "2023-06-14T14:07:25.803577Z",
     "iopub.status.idle": "2023-06-14T14:07:25.812388Z",
     "shell.execute_reply": "2023-06-14T14:07:25.810739Z"
    },
    "papermill": {
     "duration": 0.019256,
     "end_time": "2023-06-14T14:07:25.815101",
     "exception": false,
     "start_time": "2023-06-14T14:07:25.795845",
     "status": "completed"
    },
    "tags": []
   },
   "outputs": [
    {
     "name": "stdout",
     "output_type": "stream",
     "text": [
      "/kaggle/input/titanic/train.csv\n",
      "/kaggle/input/titanic/test.csv\n",
      "/kaggle/input/titanic/gender_submission.csv\n"
     ]
    }
   ],
   "source": [
    "import os\n",
    "for dirname, _, filenames in os.walk('/kaggle/input'):\n",
    "    for filename in filenames:\n",
    "        print(os.path.join(dirname, filename))"
   ]
  },
  {
   "cell_type": "code",
   "execution_count": 4,
   "id": "c569e1a8",
   "metadata": {
    "execution": {
     "iopub.execute_input": "2023-06-14T14:07:25.830630Z",
     "iopub.status.busy": "2023-06-14T14:07:25.829971Z",
     "iopub.status.idle": "2023-06-14T14:07:25.868865Z",
     "shell.execute_reply": "2023-06-14T14:07:25.867501Z"
    },
    "papermill": {
     "duration": 0.049955,
     "end_time": "2023-06-14T14:07:25.871698",
     "exception": false,
     "start_time": "2023-06-14T14:07:25.821743",
     "status": "completed"
    },
    "tags": []
   },
   "outputs": [],
   "source": [
    "df_train = pd.read_csv(\"/kaggle/input/titanic/train.csv\")\n",
    "df_test = pd.read_csv(\"/kaggle/input/titanic/test.csv\")"
   ]
  },
  {
   "cell_type": "markdown",
   "id": "4bd0fab1",
   "metadata": {
    "papermill": {
     "duration": 0.006131,
     "end_time": "2023-06-14T14:07:25.884480",
     "exception": false,
     "start_time": "2023-06-14T14:07:25.878349",
     "status": "completed"
    },
    "tags": []
   },
   "source": [
    "II. EDA"
   ]
  },
  {
   "cell_type": "code",
   "execution_count": 5,
   "id": "a3bbaaab",
   "metadata": {
    "execution": {
     "iopub.execute_input": "2023-06-14T14:07:25.903283Z",
     "iopub.status.busy": "2023-06-14T14:07:25.902808Z",
     "iopub.status.idle": "2023-06-14T14:07:25.941283Z",
     "shell.execute_reply": "2023-06-14T14:07:25.940330Z"
    },
    "papermill": {
     "duration": 0.050546,
     "end_time": "2023-06-14T14:07:25.943785",
     "exception": false,
     "start_time": "2023-06-14T14:07:25.893239",
     "status": "completed"
    },
    "tags": []
   },
   "outputs": [
    {
     "data": {
      "text/html": [
       "<div>\n",
       "<style scoped>\n",
       "    .dataframe tbody tr th:only-of-type {\n",
       "        vertical-align: middle;\n",
       "    }\n",
       "\n",
       "    .dataframe tbody tr th {\n",
       "        vertical-align: top;\n",
       "    }\n",
       "\n",
       "    .dataframe thead th {\n",
       "        text-align: right;\n",
       "    }\n",
       "</style>\n",
       "<table border=\"1\" class=\"dataframe\">\n",
       "  <thead>\n",
       "    <tr style=\"text-align: right;\">\n",
       "      <th></th>\n",
       "      <th>PassengerId</th>\n",
       "      <th>Survived</th>\n",
       "      <th>Pclass</th>\n",
       "      <th>Name</th>\n",
       "      <th>Sex</th>\n",
       "      <th>Age</th>\n",
       "      <th>SibSp</th>\n",
       "      <th>Parch</th>\n",
       "      <th>Ticket</th>\n",
       "      <th>Fare</th>\n",
       "      <th>Cabin</th>\n",
       "      <th>Embarked</th>\n",
       "    </tr>\n",
       "  </thead>\n",
       "  <tbody>\n",
       "    <tr>\n",
       "      <th>0</th>\n",
       "      <td>1</td>\n",
       "      <td>0</td>\n",
       "      <td>3</td>\n",
       "      <td>Braund, Mr. Owen Harris</td>\n",
       "      <td>male</td>\n",
       "      <td>22.0</td>\n",
       "      <td>1</td>\n",
       "      <td>0</td>\n",
       "      <td>A/5 21171</td>\n",
       "      <td>7.2500</td>\n",
       "      <td>NaN</td>\n",
       "      <td>S</td>\n",
       "    </tr>\n",
       "    <tr>\n",
       "      <th>1</th>\n",
       "      <td>2</td>\n",
       "      <td>1</td>\n",
       "      <td>1</td>\n",
       "      <td>Cumings, Mrs. John Bradley (Florence Briggs Th...</td>\n",
       "      <td>female</td>\n",
       "      <td>38.0</td>\n",
       "      <td>1</td>\n",
       "      <td>0</td>\n",
       "      <td>PC 17599</td>\n",
       "      <td>71.2833</td>\n",
       "      <td>C85</td>\n",
       "      <td>C</td>\n",
       "    </tr>\n",
       "    <tr>\n",
       "      <th>2</th>\n",
       "      <td>3</td>\n",
       "      <td>1</td>\n",
       "      <td>3</td>\n",
       "      <td>Heikkinen, Miss. Laina</td>\n",
       "      <td>female</td>\n",
       "      <td>26.0</td>\n",
       "      <td>0</td>\n",
       "      <td>0</td>\n",
       "      <td>STON/O2. 3101282</td>\n",
       "      <td>7.9250</td>\n",
       "      <td>NaN</td>\n",
       "      <td>S</td>\n",
       "    </tr>\n",
       "    <tr>\n",
       "      <th>3</th>\n",
       "      <td>4</td>\n",
       "      <td>1</td>\n",
       "      <td>1</td>\n",
       "      <td>Futrelle, Mrs. Jacques Heath (Lily May Peel)</td>\n",
       "      <td>female</td>\n",
       "      <td>35.0</td>\n",
       "      <td>1</td>\n",
       "      <td>0</td>\n",
       "      <td>113803</td>\n",
       "      <td>53.1000</td>\n",
       "      <td>C123</td>\n",
       "      <td>S</td>\n",
       "    </tr>\n",
       "    <tr>\n",
       "      <th>4</th>\n",
       "      <td>5</td>\n",
       "      <td>0</td>\n",
       "      <td>3</td>\n",
       "      <td>Allen, Mr. William Henry</td>\n",
       "      <td>male</td>\n",
       "      <td>35.0</td>\n",
       "      <td>0</td>\n",
       "      <td>0</td>\n",
       "      <td>373450</td>\n",
       "      <td>8.0500</td>\n",
       "      <td>NaN</td>\n",
       "      <td>S</td>\n",
       "    </tr>\n",
       "  </tbody>\n",
       "</table>\n",
       "</div>"
      ],
      "text/plain": [
       "   PassengerId  Survived  Pclass  \\\n",
       "0            1         0       3   \n",
       "1            2         1       1   \n",
       "2            3         1       3   \n",
       "3            4         1       1   \n",
       "4            5         0       3   \n",
       "\n",
       "                                                Name     Sex   Age  SibSp  \\\n",
       "0                            Braund, Mr. Owen Harris    male  22.0      1   \n",
       "1  Cumings, Mrs. John Bradley (Florence Briggs Th...  female  38.0      1   \n",
       "2                             Heikkinen, Miss. Laina  female  26.0      0   \n",
       "3       Futrelle, Mrs. Jacques Heath (Lily May Peel)  female  35.0      1   \n",
       "4                           Allen, Mr. William Henry    male  35.0      0   \n",
       "\n",
       "   Parch            Ticket     Fare Cabin Embarked  \n",
       "0      0         A/5 21171   7.2500   NaN        S  \n",
       "1      0          PC 17599  71.2833   C85        C  \n",
       "2      0  STON/O2. 3101282   7.9250   NaN        S  \n",
       "3      0            113803  53.1000  C123        S  \n",
       "4      0            373450   8.0500   NaN        S  "
      ]
     },
     "execution_count": 5,
     "metadata": {},
     "output_type": "execute_result"
    }
   ],
   "source": [
    "df_train.head()"
   ]
  },
  {
   "cell_type": "code",
   "execution_count": 6,
   "id": "443ec6cd",
   "metadata": {
    "execution": {
     "iopub.execute_input": "2023-06-14T14:07:25.959964Z",
     "iopub.status.busy": "2023-06-14T14:07:25.959487Z",
     "iopub.status.idle": "2023-06-14T14:07:25.965885Z",
     "shell.execute_reply": "2023-06-14T14:07:25.964528Z"
    },
    "papermill": {
     "duration": 0.017664,
     "end_time": "2023-06-14T14:07:25.968481",
     "exception": false,
     "start_time": "2023-06-14T14:07:25.950817",
     "status": "completed"
    },
    "tags": []
   },
   "outputs": [
    {
     "name": "stdout",
     "output_type": "stream",
     "text": [
      "(891, 12)\n",
      "(418, 11)\n"
     ]
    }
   ],
   "source": [
    "print(df_train.shape)\n",
    "print(df_test.shape)"
   ]
  },
  {
   "cell_type": "code",
   "execution_count": 7,
   "id": "3788dedd",
   "metadata": {
    "execution": {
     "iopub.execute_input": "2023-06-14T14:07:25.985439Z",
     "iopub.status.busy": "2023-06-14T14:07:25.984668Z",
     "iopub.status.idle": "2023-06-14T14:07:26.025156Z",
     "shell.execute_reply": "2023-06-14T14:07:26.023385Z"
    },
    "papermill": {
     "duration": 0.051939,
     "end_time": "2023-06-14T14:07:26.027895",
     "exception": false,
     "start_time": "2023-06-14T14:07:25.975956",
     "status": "completed"
    },
    "tags": []
   },
   "outputs": [
    {
     "name": "stdout",
     "output_type": "stream",
     "text": [
      "PassengerId      0\n",
      "Survived         0\n",
      "Pclass           0\n",
      "Name             0\n",
      "Sex              0\n",
      "Age            177\n",
      "SibSp            0\n",
      "Parch            0\n",
      "Ticket           0\n",
      "Fare             0\n",
      "Cabin          687\n",
      "Embarked         2\n",
      "dtype: int64\n",
      "<class 'pandas.core.frame.DataFrame'>\n",
      "RangeIndex: 891 entries, 0 to 890\n",
      "Data columns (total 12 columns):\n",
      " #   Column       Non-Null Count  Dtype  \n",
      "---  ------       --------------  -----  \n",
      " 0   PassengerId  891 non-null    int64  \n",
      " 1   Survived     891 non-null    int64  \n",
      " 2   Pclass       891 non-null    int64  \n",
      " 3   Name         891 non-null    object \n",
      " 4   Sex          891 non-null    object \n",
      " 5   Age          714 non-null    float64\n",
      " 6   SibSp        891 non-null    int64  \n",
      " 7   Parch        891 non-null    int64  \n",
      " 8   Ticket       891 non-null    object \n",
      " 9   Fare         891 non-null    float64\n",
      " 10  Cabin        204 non-null    object \n",
      " 11  Embarked     889 non-null    object \n",
      "dtypes: float64(2), int64(5), object(5)\n",
      "memory usage: 83.7+ KB\n",
      "None\n"
     ]
    }
   ],
   "source": [
    "print(df_train.isnull().sum())\n",
    "print(df_train.info())"
   ]
  },
  {
   "cell_type": "code",
   "execution_count": 8,
   "id": "acc003e9",
   "metadata": {
    "execution": {
     "iopub.execute_input": "2023-06-14T14:07:26.045578Z",
     "iopub.status.busy": "2023-06-14T14:07:26.045127Z",
     "iopub.status.idle": "2023-06-14T14:07:26.054305Z",
     "shell.execute_reply": "2023-06-14T14:07:26.052745Z"
    },
    "papermill": {
     "duration": 0.020753,
     "end_time": "2023-06-14T14:07:26.056919",
     "exception": false,
     "start_time": "2023-06-14T14:07:26.036166",
     "status": "completed"
    },
    "tags": []
   },
   "outputs": [
    {
     "name": "stdout",
     "output_type": "stream",
     "text": [
      "PassengerId      0\n",
      "Pclass           0\n",
      "Name             0\n",
      "Sex              0\n",
      "Age             86\n",
      "SibSp            0\n",
      "Parch            0\n",
      "Ticket           0\n",
      "Fare             1\n",
      "Cabin          327\n",
      "Embarked         0\n",
      "dtype: int64\n"
     ]
    }
   ],
   "source": [
    "print(df_test.isnull().sum())"
   ]
  },
  {
   "cell_type": "code",
   "execution_count": 9,
   "id": "2a24e44e",
   "metadata": {
    "execution": {
     "iopub.execute_input": "2023-06-14T14:07:26.074322Z",
     "iopub.status.busy": "2023-06-14T14:07:26.073873Z",
     "iopub.status.idle": "2023-06-14T14:07:26.094513Z",
     "shell.execute_reply": "2023-06-14T14:07:26.092945Z"
    },
    "papermill": {
     "duration": 0.032882,
     "end_time": "2023-06-14T14:07:26.097283",
     "exception": false,
     "start_time": "2023-06-14T14:07:26.064401",
     "status": "completed"
    },
    "tags": []
   },
   "outputs": [
    {
     "name": "stdout",
     "output_type": "stream",
     "text": [
      "Index(['PassengerId', 'Survived', 'Pclass', 'Sex', 'Age', 'SibSp', 'Parch',\n",
      "       'Fare'],\n",
      "      dtype='object')\n",
      "Index(['PassengerId', 'Pclass', 'Sex', 'Age', 'SibSp', 'Parch', 'Fare'], dtype='object')\n"
     ]
    }
   ],
   "source": [
    "if 'Cabin' in df_train.columns:\n",
    "    df_train = df_train.drop(columns = \"Cabin\")\n",
    "    df_test = df_test.drop(columns = \"Cabin\")\n",
    "    \n",
    "if 'Name' in df_train.columns:\n",
    "    df_train = df_train.drop(columns = \"Name\")\n",
    "    df_test = df_test.drop(columns = \"Name\")\n",
    "    \n",
    "if 'Ticket' in df_train.columns:\n",
    "    df_train = df_train.drop(columns = \"Ticket\")\n",
    "    df_test = df_test.drop(columns = \"Ticket\")\n",
    "    \n",
    "if 'Embarked' in df_train.columns:\n",
    "    df_train = df_train.drop(columns = \"Embarked\")\n",
    "    df_test = df_test.drop(columns = \"Embarked\")\n",
    "    \n",
    "# if 'PassengerId' in df_train.columns:\n",
    "#     df_train = df_train.drop(columns = \"PassengerId\")\n",
    "    \n",
    "print(df_train.columns)\n",
    "print(df_test.columns)"
   ]
  },
  {
   "cell_type": "code",
   "execution_count": 10,
   "id": "79ad340d",
   "metadata": {
    "execution": {
     "iopub.execute_input": "2023-06-14T14:07:26.114369Z",
     "iopub.status.busy": "2023-06-14T14:07:26.113875Z",
     "iopub.status.idle": "2023-06-14T14:07:26.132246Z",
     "shell.execute_reply": "2023-06-14T14:07:26.130738Z"
    },
    "papermill": {
     "duration": 0.029892,
     "end_time": "2023-06-14T14:07:26.134741",
     "exception": false,
     "start_time": "2023-06-14T14:07:26.104849",
     "status": "completed"
    },
    "tags": []
   },
   "outputs": [
    {
     "name": "stdout",
     "output_type": "stream",
     "text": [
      "     PassengerId  Survived  Pclass  Sex   Age  SibSp  Parch     Fare\n",
      "0              1         0       3    0  22.0      1      0   7.2500\n",
      "1              2         1       1    1  38.0      1      0  71.2833\n",
      "2              3         1       3    1  26.0      0      0   7.9250\n",
      "3              4         1       1    1  35.0      1      0  53.1000\n",
      "4              5         0       3    0  35.0      0      0   8.0500\n",
      "..           ...       ...     ...  ...   ...    ...    ...      ...\n",
      "886          887         0       2    0  27.0      0      0  13.0000\n",
      "887          888         1       1    1  19.0      0      0  30.0000\n",
      "888          889         0       3    1   NaN      1      2  23.4500\n",
      "889          890         1       1    0  26.0      0      0  30.0000\n",
      "890          891         0       3    0  32.0      0      0   7.7500\n",
      "\n",
      "[891 rows x 8 columns]\n"
     ]
    }
   ],
   "source": [
    "#binary encoding for gender\n",
    "\n",
    "gender_dic = { 'male' : 0, 'female' : 1}\n",
    "list_values = df_train['Sex'].unique()\n",
    "\n",
    "if \"male\" in list_values:\n",
    "    df_train['Sex'] = df_train['Sex'].map(gender_dic)\n",
    "    df_test['Sex'] = df_test['Sex'].map(gender_dic)\n",
    "\n",
    "print(df_train)"
   ]
  },
  {
   "cell_type": "code",
   "execution_count": 11,
   "id": "a97da45e",
   "metadata": {
    "execution": {
     "iopub.execute_input": "2023-06-14T14:07:26.152088Z",
     "iopub.status.busy": "2023-06-14T14:07:26.151616Z",
     "iopub.status.idle": "2023-06-14T14:07:26.162131Z",
     "shell.execute_reply": "2023-06-14T14:07:26.160988Z"
    },
    "papermill": {
     "duration": 0.022299,
     "end_time": "2023-06-14T14:07:26.164620",
     "exception": false,
     "start_time": "2023-06-14T14:07:26.142321",
     "status": "completed"
    },
    "tags": []
   },
   "outputs": [],
   "source": [
    "# We encode NaN Age value by taking the mean of all age. Simple encoding\n",
    "\n",
    "mean_age_train = df_train['Age'].mean()\n",
    "mean_age_test = df_test['Age'].mean()\n",
    "mean_fare_test = df_test['Fare'].mean()\n",
    "\n",
    "if df_train['Age'].isnull().sum() != 0:\n",
    "    df_train['Age'] = df_train['Age'].fillna(mean_age_train)\n",
    "    df_test['Age'] = df_test['Age'].fillna(mean_age_test)\n",
    "\n",
    "    if df_test['Fare'].isnull().sum() != 0:\n",
    "        df_test['Fare'] = df_test['Fare'].fillna(mean_fare_test)"
   ]
  },
  {
   "cell_type": "code",
   "execution_count": 12,
   "id": "857f62ba",
   "metadata": {
    "execution": {
     "iopub.execute_input": "2023-06-14T14:07:26.181555Z",
     "iopub.status.busy": "2023-06-14T14:07:26.181096Z",
     "iopub.status.idle": "2023-06-14T14:07:27.778071Z",
     "shell.execute_reply": "2023-06-14T14:07:27.776619Z"
    },
    "papermill": {
     "duration": 1.608518,
     "end_time": "2023-06-14T14:07:27.780592",
     "exception": false,
     "start_time": "2023-06-14T14:07:26.172074",
     "status": "completed"
    },
    "tags": []
   },
   "outputs": [
    {
     "name": "stdout",
     "output_type": "stream",
     "text": [
      "(668, 7)\n",
      "(223, 7)\n",
      "(668,)\n",
      "(223,)\n"
     ]
    }
   ],
   "source": [
    "from sklearn.model_selection import train_test_split\n",
    "\n",
    "if 'Survived' in df_train.columns:\n",
    "    y = df_train.pop('Survived')\n",
    "\n",
    "x_train, x_val, y_train, y_val = train_test_split(df_train, y, random_state = 100)\n",
    "print(x_train.shape)\n",
    "print(x_val.shape)\n",
    "print(y_train.shape)\n",
    "print(y_val.shape)"
   ]
  },
  {
   "cell_type": "code",
   "execution_count": 13,
   "id": "cacc35b9",
   "metadata": {
    "execution": {
     "iopub.execute_input": "2023-06-14T14:07:27.797960Z",
     "iopub.status.busy": "2023-06-14T14:07:27.796960Z",
     "iopub.status.idle": "2023-06-14T14:07:28.111999Z",
     "shell.execute_reply": "2023-06-14T14:07:28.110742Z"
    },
    "papermill": {
     "duration": 0.326586,
     "end_time": "2023-06-14T14:07:28.114665",
     "exception": false,
     "start_time": "2023-06-14T14:07:27.788079",
     "status": "completed"
    },
    "tags": []
   },
   "outputs": [
    {
     "data": {
      "text/html": [
       "<style>#sk-container-id-1 {color: black;background-color: white;}#sk-container-id-1 pre{padding: 0;}#sk-container-id-1 div.sk-toggleable {background-color: white;}#sk-container-id-1 label.sk-toggleable__label {cursor: pointer;display: block;width: 100%;margin-bottom: 0;padding: 0.3em;box-sizing: border-box;text-align: center;}#sk-container-id-1 label.sk-toggleable__label-arrow:before {content: \"▸\";float: left;margin-right: 0.25em;color: #696969;}#sk-container-id-1 label.sk-toggleable__label-arrow:hover:before {color: black;}#sk-container-id-1 div.sk-estimator:hover label.sk-toggleable__label-arrow:before {color: black;}#sk-container-id-1 div.sk-toggleable__content {max-height: 0;max-width: 0;overflow: hidden;text-align: left;background-color: #f0f8ff;}#sk-container-id-1 div.sk-toggleable__content pre {margin: 0.2em;color: black;border-radius: 0.25em;background-color: #f0f8ff;}#sk-container-id-1 input.sk-toggleable__control:checked~div.sk-toggleable__content {max-height: 200px;max-width: 100%;overflow: auto;}#sk-container-id-1 input.sk-toggleable__control:checked~label.sk-toggleable__label-arrow:before {content: \"▾\";}#sk-container-id-1 div.sk-estimator input.sk-toggleable__control:checked~label.sk-toggleable__label {background-color: #d4ebff;}#sk-container-id-1 div.sk-label input.sk-toggleable__control:checked~label.sk-toggleable__label {background-color: #d4ebff;}#sk-container-id-1 input.sk-hidden--visually {border: 0;clip: rect(1px 1px 1px 1px);clip: rect(1px, 1px, 1px, 1px);height: 1px;margin: -1px;overflow: hidden;padding: 0;position: absolute;width: 1px;}#sk-container-id-1 div.sk-estimator {font-family: monospace;background-color: #f0f8ff;border: 1px dotted black;border-radius: 0.25em;box-sizing: border-box;margin-bottom: 0.5em;}#sk-container-id-1 div.sk-estimator:hover {background-color: #d4ebff;}#sk-container-id-1 div.sk-parallel-item::after {content: \"\";width: 100%;border-bottom: 1px solid gray;flex-grow: 1;}#sk-container-id-1 div.sk-label:hover label.sk-toggleable__label {background-color: #d4ebff;}#sk-container-id-1 div.sk-serial::before {content: \"\";position: absolute;border-left: 1px solid gray;box-sizing: border-box;top: 0;bottom: 0;left: 50%;z-index: 0;}#sk-container-id-1 div.sk-serial {display: flex;flex-direction: column;align-items: center;background-color: white;padding-right: 0.2em;padding-left: 0.2em;position: relative;}#sk-container-id-1 div.sk-item {position: relative;z-index: 1;}#sk-container-id-1 div.sk-parallel {display: flex;align-items: stretch;justify-content: center;background-color: white;position: relative;}#sk-container-id-1 div.sk-item::before, #sk-container-id-1 div.sk-parallel-item::before {content: \"\";position: absolute;border-left: 1px solid gray;box-sizing: border-box;top: 0;bottom: 0;left: 50%;z-index: -1;}#sk-container-id-1 div.sk-parallel-item {display: flex;flex-direction: column;z-index: 1;position: relative;background-color: white;}#sk-container-id-1 div.sk-parallel-item:first-child::after {align-self: flex-end;width: 50%;}#sk-container-id-1 div.sk-parallel-item:last-child::after {align-self: flex-start;width: 50%;}#sk-container-id-1 div.sk-parallel-item:only-child::after {width: 0;}#sk-container-id-1 div.sk-dashed-wrapped {border: 1px dashed gray;margin: 0 0.4em 0.5em 0.4em;box-sizing: border-box;padding-bottom: 0.4em;background-color: white;}#sk-container-id-1 div.sk-label label {font-family: monospace;font-weight: bold;display: inline-block;line-height: 1.2em;}#sk-container-id-1 div.sk-label-container {text-align: center;}#sk-container-id-1 div.sk-container {/* jupyter's `normalize.less` sets `[hidden] { display: none; }` but bootstrap.min.css set `[hidden] { display: none !important; }` so we also need the `!important` here to be able to override the default hidden behavior on the sphinx rendered scikit-learn.org. See: https://github.com/scikit-learn/scikit-learn/issues/21755 */display: inline-block !important;position: relative;}#sk-container-id-1 div.sk-text-repr-fallback {display: none;}</style><div id=\"sk-container-id-1\" class=\"sk-top-container\"><div class=\"sk-text-repr-fallback\"><pre>DecisionTreeClassifier()</pre><b>In a Jupyter environment, please rerun this cell to show the HTML representation or trust the notebook. <br />On GitHub, the HTML representation is unable to render, please try loading this page with nbviewer.org.</b></div><div class=\"sk-container\" hidden><div class=\"sk-item\"><div class=\"sk-estimator sk-toggleable\"><input class=\"sk-toggleable__control sk-hidden--visually\" id=\"sk-estimator-id-1\" type=\"checkbox\" checked><label for=\"sk-estimator-id-1\" class=\"sk-toggleable__label sk-toggleable__label-arrow\">DecisionTreeClassifier</label><div class=\"sk-toggleable__content\"><pre>DecisionTreeClassifier()</pre></div></div></div></div></div>"
      ],
      "text/plain": [
       "DecisionTreeClassifier()"
      ]
     },
     "execution_count": 13,
     "metadata": {},
     "output_type": "execute_result"
    }
   ],
   "source": [
    "from sklearn.tree import DecisionTreeClassifier\n",
    "tree = DecisionTreeClassifier()\n",
    "tree.fit(x_train, y_train)"
   ]
  },
  {
   "cell_type": "code",
   "execution_count": 14,
   "id": "b3c1c56e",
   "metadata": {
    "execution": {
     "iopub.execute_input": "2023-06-14T14:07:28.132726Z",
     "iopub.status.busy": "2023-06-14T14:07:28.132256Z",
     "iopub.status.idle": "2023-06-14T14:07:28.142465Z",
     "shell.execute_reply": "2023-06-14T14:07:28.141311Z"
    },
    "papermill": {
     "duration": 0.022061,
     "end_time": "2023-06-14T14:07:28.144833",
     "exception": false,
     "start_time": "2023-06-14T14:07:28.122772",
     "status": "completed"
    },
    "tags": []
   },
   "outputs": [
    {
     "name": "stdout",
     "output_type": "stream",
     "text": [
      "0.7309417040358744\n"
     ]
    }
   ],
   "source": [
    "# Measuring the accuracy of our model\n",
    "from sklearn.metrics import accuracy_score\n",
    "\n",
    "tree_pred = tree.predict(x_val)\n",
    "print(accuracy_score(y_val, tree_pred))"
   ]
  },
  {
   "cell_type": "code",
   "execution_count": 15,
   "id": "02c6925c",
   "metadata": {
    "execution": {
     "iopub.execute_input": "2023-06-14T14:07:28.162611Z",
     "iopub.status.busy": "2023-06-14T14:07:28.162158Z",
     "iopub.status.idle": "2023-06-14T14:07:28.176715Z",
     "shell.execute_reply": "2023-06-14T14:07:28.175422Z"
    },
    "papermill": {
     "duration": 0.026629,
     "end_time": "2023-06-14T14:07:28.179355",
     "exception": false,
     "start_time": "2023-06-14T14:07:28.152726",
     "status": "completed"
    },
    "tags": []
   },
   "outputs": [],
   "source": [
    "# Training the tree on all the data\n",
    "\n",
    "tree_final = DecisionTreeClassifier()\n",
    "tree_final.fit(df_train, y)\n",
    "tree_pred = tree_final.predict(df_test)"
   ]
  },
  {
   "cell_type": "code",
   "execution_count": 16,
   "id": "d9816a9b",
   "metadata": {
    "execution": {
     "iopub.execute_input": "2023-06-14T14:07:28.197316Z",
     "iopub.status.busy": "2023-06-14T14:07:28.196594Z",
     "iopub.status.idle": "2023-06-14T14:07:28.210849Z",
     "shell.execute_reply": "2023-06-14T14:07:28.209540Z"
    },
    "papermill": {
     "duration": 0.026524,
     "end_time": "2023-06-14T14:07:28.213750",
     "exception": false,
     "start_time": "2023-06-14T14:07:28.187226",
     "status": "completed"
    },
    "tags": []
   },
   "outputs": [],
   "source": [
    "submission = pd.DataFrame({\n",
    "\"PassengerId\": df_test[\"PassengerId\"],\n",
    "\"Survived\": tree_pred\n",
    "})\n",
    "\n",
    "submission.to_csv('submission.csv', index=False)"
   ]
  }
 ],
 "metadata": {
  "kernelspec": {
   "display_name": "Python 3",
   "language": "python",
   "name": "python3"
  },
  "language_info": {
   "codemirror_mode": {
    "name": "ipython",
    "version": 3
   },
   "file_extension": ".py",
   "mimetype": "text/x-python",
   "name": "python",
   "nbconvert_exporter": "python",
   "pygments_lexer": "ipython3",
   "version": "3.10.10"
  },
  "papermill": {
   "default_parameters": {},
   "duration": 17.210658,
   "end_time": "2023-06-14T14:07:29.445932",
   "environment_variables": {},
   "exception": null,
   "input_path": "__notebook__.ipynb",
   "output_path": "__notebook__.ipynb",
   "parameters": {},
   "start_time": "2023-06-14T14:07:12.235274",
   "version": "2.4.0"
  }
 },
 "nbformat": 4,
 "nbformat_minor": 5
}
